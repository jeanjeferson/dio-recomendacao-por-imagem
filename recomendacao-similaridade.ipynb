{
 "cells": [
  {
   "cell_type": "code",
   "execution_count": null,
   "metadata": {},
   "outputs": [],
   "source": [
    "import os\n",
    "import numpy as np\n",
    "import tensorflow as tf\n",
    "from tensorflow.keras.applications.vgg16 import VGG16, preprocess_input\n",
    "from tensorflow.keras.preprocessing.image import load_img, img_to_array\n",
    "from sklearn.model_selection import train_test_split\n",
    "from sklearn.metrics.pairwise import cosine_similarity\n",
    "import matplotlib.pyplot as plt"
   ]
  },
  {
   "cell_type": "code",
   "execution_count": null,
   "metadata": {},
   "outputs": [],
   "source": [
    "# Step 1: Collect image paths and labels\n",
    "def collect_image_paths(directory):\n",
    "    image_extensions = ['.jpg', '.jpeg', '.png', '.gif']\n",
    "    image_paths = []\n",
    "    labels = []\n",
    "    for root, dirs, files in os.walk(directory):\n",
    "        for file in files:\n",
    "            _, ext = os.path.splitext(file)\n",
    "            if ext.lower() in image_extensions:\n",
    "                path = os.path.join(root, file)\n",
    "                image_paths.append(path)\n",
    "                label = os.path.basename(root)\n",
    "                labels.append(label)\n",
    "    return image_paths, labels\n"
   ]
  },
  {
   "cell_type": "code",
   "execution_count": null,
   "metadata": {},
   "outputs": [],
   "source": [
    "# Step 2: Extract features in batches\n",
    "def extract_features_batch(image_paths, model, batch_size=32):\n",
    "    batches = [image_paths[i:i+batch_size] for i in range(0, len(image_paths), batch_size)]\n",
    "    features = []\n",
    "    for batch in batches:\n",
    "        imgs = [load_img(path, target_size=(224, 224)) for path in batch]\n",
    "        imgs = [img_to_array(img) for img in imgs]\n",
    "        imgs = np.stack(imgs, axis=0)\n",
    "        imgs = preprocess_input(imgs)\n",
    "        batch_features = model.predict(imgs)\n",
    "        batch_features = batch_features.reshape(batch_features.shape[0], -1)\n",
    "        features.append(batch_features)\n",
    "    return np.vstack(features)"
   ]
  },
  {
   "cell_type": "code",
   "execution_count": null,
   "metadata": {},
   "outputs": [],
   "source": [
    "# Step 3: Find similar images\n",
    "def find_similar_images(test_feature, train_features, top_k=5):\n",
    "    similarities = cosine_similarity([test_feature], train_features)\n",
    "    indices = np.argsort(similarities[0])[::-1][:top_k]\n",
    "    return indices"
   ]
  },
  {
   "cell_type": "code",
   "execution_count": null,
   "metadata": {},
   "outputs": [],
   "source": [
    "# Step 4: Display images\n",
    "def display_images(image_paths, figsize=(15, 5)):\n",
    "    num_images = len(image_paths)\n",
    "    fig, axes = plt.subplots(1, num_images, figsize=figsize)\n",
    "    for i, path in enumerate(image_paths):\n",
    "        img = load_img(path, target_size=(224, 224))\n",
    "        axes[i].imshow(img)\n",
    "        axes[i].axis('off')\n",
    "    plt.show()\n",
    "\n",
    "# Main function\n",
    "def main():\n",
    "    # Dataset directory\n",
    "    dataset_dir = 'data/'\n",
    "    \n",
    "    # Collect image paths and labels\n",
    "    image_paths, labels = collect_image_paths(dataset_dir)\n",
    "    \n",
    "    # Split data into training and testing sets\n",
    "    X_train, X_test, y_train, y_test = train_test_split(image_paths, labels, test_size=0.2, stratify=labels, random_state=42)\n",
    "    \n",
    "    # Load pre-trained VGG16 model\n",
    "    base_model = VGG16(weights='imagenet', include_top=False)\n",
    "    model = base_model\n",
    "    \n",
    "    # Extract features\n",
    "    X_train_features = extract_features_batch(X_train, model)\n",
    "    X_test_features = extract_features_batch(X_test, model)\n",
    "    \n",
    "    # Save features\n",
    "    np.save('X_train_features.npy', X_train_features)\n",
    "    np.save('X_test_features.npy', X_test_features)\n",
    "    \n",
    "    # User selects a test image\n",
    "    print(\"Number of test images:\", len(X_test))\n",
    "    selection = int(input(\"Select a test image index (0 to {}): \".format(len(X_test)-1)))\n",
    "    selected_image_path = X_test[selection]\n",
    "    selected_feature = X_test_features[selection]\n",
    "    \n",
    "    # Find similar images\n",
    "    similar_indices = find_similar_images(selected_feature, X_train_features, top_k=5)\n",
    "    similar_image_paths = [X_train[i] for i in similar_indices]\n",
    "    \n",
    "    # Display recommendations\n",
    "    display_images(similar_image_paths)\n",
    "\n",
    "if __name__ == '__main__':\n",
    "    main()"
   ]
  },
  {
   "cell_type": "code",
   "execution_count": null,
   "metadata": {},
   "outputs": [],
   "source": []
  },
  {
   "cell_type": "code",
   "execution_count": null,
   "metadata": {},
   "outputs": [],
   "source": []
  },
  {
   "cell_type": "code",
   "execution_count": null,
   "metadata": {},
   "outputs": [],
   "source": []
  }
 ],
 "metadata": {
  "language_info": {
   "name": "python"
  }
 },
 "nbformat": 4,
 "nbformat_minor": 2
}
